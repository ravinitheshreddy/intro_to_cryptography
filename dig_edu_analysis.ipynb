{
 "cells": [
  {
   "cell_type": "markdown",
   "metadata": {},
   "source": [
    "# Analysis of Experiment\n",
    "\n",
    "## Introduction to Cryptography\n",
    "\n",
    "### CS 411"
   ]
  },
  {
   "cell_type": "code",
   "execution_count": 1,
   "metadata": {},
   "outputs": [],
   "source": [
    "import json\n",
    "from unidecode import unidecode\n",
    "import string\n",
    "import pandas as pd"
   ]
  },
  {
   "cell_type": "markdown",
   "metadata": {},
   "source": [
    "### With Advance Organiser"
   ]
  },
  {
   "cell_type": "markdown",
   "metadata": {},
   "source": [
    "#### Correct Answers for quizes"
   ]
  },
  {
   "cell_type": "code",
   "execution_count": 2,
   "metadata": {},
   "outputs": [],
   "source": [
    "pex_answers_with_adv = ['fkdw', 'merci', '8', 'kzzovob', 'catharsis', 'dmbnczfd', '11', 'decrypter']\n",
    "grp_act_answers = [\"7\", \"maitre corbeau sur un arbre perche tenait en son bec un fromage\"]\n",
    "final_quiz_answers = [\"gtnx\", \"oseille\", \"22\"]"
   ]
  },
  {
   "cell_type": "markdown",
   "metadata": {},
   "source": [
    "#### Student Gender Map\n",
    "\n",
    "We create a dictionary `gender_map_with_adv` to read and store the mapping between names and gender."
   ]
  },
  {
   "cell_type": "code",
   "execution_count": 3,
   "metadata": {},
   "outputs": [],
   "source": [
    "gender_map_with_adv = {}\n",
    "with open(\"./data/with_adv_org/gender.json\", encoding=\"utf-8\") as gend_file:\n",
    "    gender_map_with_adv = json.load(gend_file)\n",
    "gender_map_with_adv = {k.lower():v for k,v in gender_map_with_adv.items()}"
   ]
  },
  {
   "cell_type": "markdown",
   "metadata": {},
   "source": [
    "#### Intialising students\n",
    "\n",
    "We shall store the information about students in dictionary of dictionary `(students_with_adv)`, with first level key as the unique id and the second level key as name, gender, prac_ex_score (denoting the score in the practice session), group id, final_quiz_score, final_quiz_time."
   ]
  },
  {
   "cell_type": "code",
   "execution_count": 4,
   "metadata": {},
   "outputs": [],
   "source": [
    "students_with_adv = {}\n",
    "\n",
    "with open(\"./data/with_adv_org/ac/1-bienvenue__p1__ac-quiz-elc3/product.json\", encoding=\"utf-8\") as pinfo_file:\n",
    "    pinfo_with_adv = json.load(pinfo_file)\n",
    "    \n",
    "    for unid in pinfo_with_adv[\"activityData\"][\"payload\"]:\n",
    "        if unid == \"KbPXJK9KfSWierSau\" or unid == \"g5LWw7gt2qZ5a8mLr\":\n",
    "            # the first id belongs to Maxime and second id to a unlisted user\n",
    "            continue \n",
    "            \n",
    "        students_with_adv[unid] = {}\n",
    "        sname = pinfo_with_adv[\"activityData\"][\"payload\"][unid][\"data\"][\"form\"][\"0\"][\"text\"].strip().lower()\n",
    "        \n",
    "        students_with_adv[unid][\"name\"] = sname\n",
    "        students_with_adv[unid][\"gender\"] = gender_map_with_adv[sname]"
   ]
  },
  {
   "cell_type": "markdown",
   "metadata": {},
   "source": [
    "#### Advance organiser Scoring"
   ]
  },
  {
   "cell_type": "code",
   "execution_count": 5,
   "metadata": {},
   "outputs": [],
   "source": [
    "with open(\"./data/with_adv_org/ac/2-encodagedécodage-ave__p1__ac-quiz-fn6u/product.json\") as adv_file:\n",
    "    adv_quiz = json.load(adv_file)\n",
    "\n",
    "    for unid in adv_quiz[\"activityData\"][\"payload\"]:\n",
    "        if unid == \"KbPXJK9KfSWierSau\" or unid == \"g5LWw7gt2qZ5a8mLr\":\n",
    "            continue\n",
    "            \n",
    "        students_with_adv[unid][\"adv_org_score\"] = adv_quiz[\"activityData\"][\"payload\"][unid][\"data\"][\"correctCount\"]"
   ]
  },
  {
   "cell_type": "markdown",
   "metadata": {},
   "source": [
    "#### Practise session Scoring"
   ]
  },
  {
   "cell_type": "code",
   "execution_count": 6,
   "metadata": {},
   "outputs": [],
   "source": [
    "with open(\"./data/with_adv_org/ac/5-exercices-code-de-cé__p1__ac-quiz-c78m/product.json\", encoding=\"utf-8\") as prac_file:\n",
    "    prac_quiz_with_adv = json.load(prac_file)\n",
    "\n",
    "    for unid in prac_quiz_with_adv[\"activityData\"][\"payload\"]:\n",
    "        if unid == \"KbPXJK9KfSWierSau\" or unid == \"g5LWw7gt2qZ5a8mLr\":\n",
    "            continue\n",
    "        score = 0\n",
    "        for qid in range(8):\n",
    "            ans = prac_quiz_with_adv[\"activityData\"][\"payload\"][unid][\"data\"][\"form\"][str(qid)][\"text\"].strip().lower()\n",
    "            if ans == \"\":\n",
    "                try:\n",
    "                    ans = prac_quiz_with_adv[\"activityData\"][\"payload\"][unid][\"data\"][\"form\"][str(qid)][\"value\"]\n",
    "                except:\n",
    "                    ans = \"\"\n",
    "            if ans == pex_answers_with_adv[qid]:\n",
    "                score += 1\n",
    "        students_with_adv[unid][\"prac_ex_score\"] = score"
   ]
  },
  {
   "cell_type": "markdown",
   "metadata": {},
   "source": [
    "#### Group activity scoring"
   ]
  },
  {
   "cell_type": "code",
   "execution_count": 7,
   "metadata": {},
   "outputs": [],
   "source": [
    "# obtaining the group id for each student\n",
    "with open(\"./data/with_adv_org/ac/7-chat__p2__ac-chat-h93z/object.json\", encoding=\"utf-8\") as group_file:\n",
    "    groups_with_adv = json.load(group_file)\n",
    "\n",
    "    for gid in groups_with_adv[\"socialStructure\"][\"group\"]:\n",
    "        for unid in groups_with_adv[\"socialStructure\"][\"group\"][gid]:\n",
    "            if unid == \"KbPXJK9KfSWierSau\" or unid == \"g5LWw7gt2qZ5a8mLr\":\n",
    "                continue\n",
    "            students_with_adv[unid][\"group_id\"] = gid"
   ]
  },
  {
   "cell_type": "code",
   "execution_count": 8,
   "metadata": {},
   "outputs": [],
   "source": [
    "with open(\"./data/with_adv_org/ac/7-exercice-attaque__p2__ac-quiz-eopy/product.json\", encoding=\"utf-8\") as grp_file:\n",
    "    grp_quiz_with_adv = json.load(grp_file)\n",
    "\n",
    "    for gid in grp_quiz_with_adv[\"activityData\"][\"payload\"]:\n",
    "        score = 0\n",
    "        for qid in range(2):\n",
    "            temp_ans = unidecode(grp_quiz_with_adv[\"activityData\"][\"payload\"][gid][\"data\"][\"form\"][str(qid)][\"text\"].strip().lower())\n",
    "            ans = temp_ans.translate(str.maketrans('', '', string.punctuation))\n",
    "            if ans == \"\":\n",
    "                try:\n",
    "                    ans = grp_quiz_with_adv[\"activityData\"][\"payload\"][gid][\"data\"][\"form\"][str(qid)][\"value\"]\n",
    "                except:\n",
    "                    ans = \"\"\n",
    "            if ans == grp_act_answers[qid]:\n",
    "                score += 1\n",
    "        for unid in students_with_adv:\n",
    "            if students_with_adv[unid][\"group_id\"] == gid:\n",
    "                students_with_adv[unid][\"grp_ex_score\"] = score"
   ]
  },
  {
   "cell_type": "markdown",
   "metadata": {},
   "source": [
    "#### Final Quiz Scoring"
   ]
  },
  {
   "cell_type": "code",
   "execution_count": 9,
   "metadata": {},
   "outputs": [],
   "source": [
    "with open(\"./data/with_adv_org/ac/8-quiz-final__p1__ac-quiz-8ayr/product.json\", encoding=\"utf-8\") as fquiz_file:\n",
    "    final_quiz_with_adv = json.load(fquiz_file)\n",
    "    final_with_adv_quiz_id = final_quiz_with_adv[\"_id\"]\n",
    "\n",
    "    for unid in final_quiz_with_adv[\"activityData\"][\"payload\"]:\n",
    "        if unid == \"KbPXJK9KfSWierSau\" or unid == \"g5LWw7gt2qZ5a8mLr\":\n",
    "            continue\n",
    "        score = 0\n",
    "        for qid in range(3):\n",
    "            ans = final_quiz_with_adv[\"activityData\"][\"payload\"][unid][\"data\"][\"form\"][str(qid)][\"text\"].strip().lower()\n",
    "            if ans == \"\":\n",
    "                try:\n",
    "                    ans = final_quiz_with_adv[\"activityData\"][\"payload\"][unid][\"data\"][\"form\"][str(qid)][\"value\"]\n",
    "                except:\n",
    "                    ans = \"\"\n",
    "            if ans == final_quiz_answers[qid]:\n",
    "                score += 1\n",
    "        students_with_adv[unid][\"final_quiz_score\"] = score"
   ]
  },
  {
   "cell_type": "markdown",
   "metadata": {},
   "source": [
    "#### Final quiz Timing"
   ]
  },
  {
   "cell_type": "code",
   "execution_count": 10,
   "metadata": {},
   "outputs": [
    {
     "name": "stderr",
     "output_type": "stream",
     "text": [
      "<ipython-input-10-6cd641140044>:4: SettingWithCopyWarning: \n",
      "A value is trying to be set on a copy of a slice from a DataFrame.\n",
      "Try using .loc[row_indexer,col_indexer] = value instead\n",
      "\n",
      "See the caveats in the documentation: https://pandas.pydata.org/pandas-docs/stable/user_guide/indexing.html#returning-a-view-versus-a-copy\n",
      "  final_quiz_log_with_adv[\"timestamp\"] = datetime_with_adv\n"
     ]
    }
   ],
   "source": [
    "log_file_with_adv = pd.read_csv(\"./data/with_adv_org/log.tsv\", sep=\"\\t\", encoding=\"utf-8\", usecols=[\"timestamp\", \"instanceId\", \"activityId\", \"activityTitle\", \"type\", ])\n",
    "final_quiz_log_with_adv = log_file_with_adv.loc[log_file_with_adv['activityId'] == final_with_adv_quiz_id]\n",
    "datetime_with_adv = pd.to_datetime(final_quiz_log_with_adv[\"timestamp\"], infer_datetime_format=True)\n",
    "final_quiz_log_with_adv[\"timestamp\"] = datetime_with_adv"
   ]
  },
  {
   "cell_type": "code",
   "execution_count": 11,
   "metadata": {},
   "outputs": [],
   "source": [
    "student_wise_with_adv = final_quiz_log_with_adv.groupby([\"instanceId\"])\n",
    "for gid, group in student_wise_with_adv:\n",
    "    start_with_adv = group.loc[group['type'] == \"activityDidMount\", 'timestamp'].iloc[0]\n",
    "    stop_with_adv = group.loc[group['type'] == \"coordinates\", 'timestamp'].iloc[0]\n",
    "    time_taken_with_adv = pd.Timedelta(stop_with_adv - start_with_adv).seconds\n",
    "    students_with_adv[gid][\"fina_quiz_time(sec)\"] = time_taken_with_adv"
   ]
  },
  {
   "cell_type": "markdown",
   "metadata": {},
   "source": [
    "### Without Advance Organiser"
   ]
  },
  {
   "cell_type": "markdown",
   "metadata": {},
   "source": [
    "#### Correct Answers for quizes"
   ]
  },
  {
   "cell_type": "code",
   "execution_count": 12,
   "metadata": {},
   "outputs": [],
   "source": [
    "pex_answers_wo_adv = ['fkdw', 'merci', '8', 'kzzovob', 'catharsis', 'dmbnczfd', '11', 'decrypter', \"tulipe\", \"kvybcubar\", \"16\"]\n",
    "grp_act_answers = [\"7\", \"maitre corbeau sur un arbre perche tenait en son bec un fromage\"]\n",
    "final_quiz_answers = [\"gtnx\", \"oseille\", \"22\"]"
   ]
  },
  {
   "cell_type": "markdown",
   "metadata": {},
   "source": [
    "#### Student Gender Map"
   ]
  },
  {
   "cell_type": "code",
   "execution_count": 13,
   "metadata": {},
   "outputs": [],
   "source": [
    "gender_map_wo_adv = {}\n",
    "with open(\"./data/without_adv_org/gender.json\", encoding=\"utf-8\") as gend_file:\n",
    "    gender_map_wo_adv = json.load(gend_file)"
   ]
  },
  {
   "cell_type": "markdown",
   "metadata": {},
   "source": [
    "#### Intialising students"
   ]
  },
  {
   "cell_type": "code",
   "execution_count": 14,
   "metadata": {},
   "outputs": [],
   "source": [
    "students_wo_adv = {}\n",
    "with open(\"./data/without_adv_org/ac/1-bienvenue__p1__ac-quiz-0dbj/product.json\", encoding=\"utf-8\") as pinfo_file:\n",
    "    pinfo_wo_adv = json.load(pinfo_file)\n",
    "    \n",
    "    for unid in pinfo_wo_adv[\"payload\"]:   \n",
    "        students_wo_adv[unid] = {}\n",
    "        sname = pinfo_wo_adv[\"payload\"][unid][\"data\"][\"form\"][\"0\"][\"text\"].strip()\n",
    "        students_wo_adv[unid][\"name\"] = unidecode(sname)\n",
    "        students_wo_adv[unid][\"gender\"] = gender_map_wo_adv[sname]"
   ]
  },
  {
   "cell_type": "markdown",
   "metadata": {},
   "source": [
    "#### Practise session Scoring"
   ]
  },
  {
   "cell_type": "code",
   "execution_count": 15,
   "metadata": {},
   "outputs": [],
   "source": [
    "with open(\"./data/without_adv_org/ac/4-exercices-code-de-cé__p1__ac-quiz-6zqr/product.json\", encoding=\"utf-8\") as prac_file:\n",
    "    prac_quiz_wo_adv = json.load(prac_file)\n",
    "\n",
    "    for unid in prac_quiz_wo_adv[\"payload\"]:\n",
    "        score = 0\n",
    "        for qid in range(11):\n",
    "            ans = prac_quiz_wo_adv[\"payload\"][unid][\"data\"][\"form\"][str(qid)][\"text\"].strip().lower()\n",
    "            if ans == \"\":\n",
    "                try:\n",
    "                    ans = prac_quiz_wo_adv[\"payload\"][unid][\"data\"][\"form\"][str(qid)][\"value\"]\n",
    "                except:\n",
    "                    ans = \"\"\n",
    "            if ans == pex_answers_wo_adv[qid]:\n",
    "                score += 1\n",
    "        students_wo_adv[unid][\"prac_ex_score\"] = score"
   ]
  },
  {
   "cell_type": "markdown",
   "metadata": {},
   "source": [
    "#### Group activity scoring"
   ]
  },
  {
   "cell_type": "code",
   "execution_count": 16,
   "metadata": {},
   "outputs": [],
   "source": [
    "group_activity_wo_adv = {}\n",
    "with open(\"./data/without_adv_org/ac/6-chat__p2__ac-chat-hhix/object.json\", encoding=\"utf-8\") as chat_file:\n",
    "    chat_wo_adv = json.load(chat_file)\n",
    "\n",
    "    for gid in chat_wo_adv[\"socialStructure\"][\"group\"]:\n",
    "        if gid not in group_activity_wo_adv:\n",
    "            group_activity_wo_adv[gid] = {}\n",
    "        for unid in chat_wo_adv[\"socialStructure\"][\"group\"][gid]:\n",
    "            students_wo_adv[unid][\"group_id\"] = gid"
   ]
  },
  {
   "cell_type": "code",
   "execution_count": 17,
   "metadata": {},
   "outputs": [],
   "source": [
    "with open(\"./data/without_adv_org/ac/6-exercice-attaque__p2__ac-quiz-bcch/product.json\", encoding=\"utf-8\") as grp_file:\n",
    "    grp_quiz_wo_adv = json.load(grp_file)\n",
    "\n",
    "    for gid in grp_quiz_wo_adv[\"payload\"]:\n",
    "        score = 0\n",
    "        for qid in range(2):\n",
    "            temp_ans = unidecode(grp_quiz_wo_adv[\"payload\"][gid][\"data\"][\"form\"][str(qid)][\"text\"].lower())\n",
    "            ans = temp_ans.translate(str.maketrans('', '', string.punctuation))\n",
    "            if ans == \"\":\n",
    "                try:\n",
    "                    ans = grp_quiz_wo_adv[\"payload\"][gid][\"data\"][\"form\"][str(qid)][\"value\"]\n",
    "                except:\n",
    "                    ans = \"\"\n",
    "            if ans == grp_act_answers[qid]:\n",
    "                score += 1\n",
    "        for unid in students_wo_adv:\n",
    "            if students_wo_adv[unid][\"group_id\"] == gid:\n",
    "                students_wo_adv[unid][\"grp_ex_score\"] = score"
   ]
  },
  {
   "cell_type": "markdown",
   "metadata": {},
   "source": [
    "#### Final Quiz Scoring"
   ]
  },
  {
   "cell_type": "code",
   "execution_count": 18,
   "metadata": {},
   "outputs": [],
   "source": [
    "with open(\"./data/without_adv_org/ac/7-quiz-final__p1__ac-quiz-azie/product.json\", encoding=\"utf-8\") as fquiz_file:\n",
    "    final_quiz_wo_adv = json.load(fquiz_file)\n",
    "    final_wo_adv_quiz_id = \"cki4fc7ai00vc01ywdqxtazie\"\n",
    "\n",
    "    for unid in final_quiz_wo_adv[\"payload\"]:\n",
    "        score = 0\n",
    "        for qid in range(3):\n",
    "            ans = final_quiz_wo_adv[\"payload\"][unid][\"data\"][\"form\"][str(qid)][\"text\"].lower()\n",
    "            if ans == \"\":\n",
    "                try:\n",
    "                    ans = final_quiz_wo_adv[\"payload\"][unid][\"data\"][\"form\"][str(qid)][\"value\"]\n",
    "                except:\n",
    "                    ans = \"\"\n",
    "            if ans == final_quiz_answers[qid]:\n",
    "                score += 1\n",
    "        students_wo_adv[unid][\"final_quiz_score\"] = score"
   ]
  },
  {
   "cell_type": "markdown",
   "metadata": {},
   "source": [
    "#### Final quiz Timing"
   ]
  },
  {
   "cell_type": "code",
   "execution_count": 19,
   "metadata": {},
   "outputs": [
    {
     "name": "stderr",
     "output_type": "stream",
     "text": [
      "<ipython-input-19-d26eeeefa863>:4: SettingWithCopyWarning: \n",
      "A value is trying to be set on a copy of a slice from a DataFrame.\n",
      "Try using .loc[row_indexer,col_indexer] = value instead\n",
      "\n",
      "See the caveats in the documentation: https://pandas.pydata.org/pandas-docs/stable/user_guide/indexing.html#returning-a-view-versus-a-copy\n",
      "  final_quiz_log_wo_adv[\"timestamp\"] = datetime\n"
     ]
    }
   ],
   "source": [
    "log_file_wo_adv = pd.read_csv(\"./data/without_adv_org/log.tsv\", sep=\"\\t\", encoding=\"utf-8\", usecols=[\"timestamp\", \"instanceId\", \"activityId\", \"activityTitle\", \"type\", ])\n",
    "final_quiz_log_wo_adv = log_file_wo_adv.loc[log_file_wo_adv['activityId'] == final_wo_adv_quiz_id]\n",
    "datetime = pd.to_datetime(final_quiz_log_wo_adv[\"timestamp\"], infer_datetime_format=True)\n",
    "final_quiz_log_wo_adv[\"timestamp\"] = datetime"
   ]
  },
  {
   "cell_type": "code",
   "execution_count": 20,
   "metadata": {},
   "outputs": [],
   "source": [
    "student_wise_wo_adv = final_quiz_log_wo_adv.groupby([\"instanceId\"])\n",
    "for gid, group_wo_adv in student_wise_wo_adv:\n",
    "    # the first row indicates the start of the quiz\n",
    "    start_wo_adv = group_wo_adv.iloc[[0]]['timestamp'].iloc[0]\n",
    "    # the last row indicates the end of the quiz\n",
    "    stop_wo_adv = group_wo_adv.iloc[[-1]]['timestamp'].iloc[0]\n",
    "    time_taken_wo_adv = pd.Timedelta(stop_wo_adv - start_wo_adv).seconds\n",
    "    students_wo_adv[gid][\"fina_quiz_time(sec)\"] = time_taken_wo_adv"
   ]
  },
  {
   "cell_type": "code",
   "execution_count": 21,
   "metadata": {},
   "outputs": [
    {
     "name": "stdout",
     "output_type": "stream",
     "text": [
      "The number of students with adv organiser 24\n",
      "The number of students without adv organiser 16\n"
     ]
    }
   ],
   "source": [
    "print(\"The number of students with adv organiser\", len(students_with_adv.keys()))\n",
    "print(\"The number of students without adv organiser\", len(students_wo_adv.keys()))"
   ]
  },
  {
   "cell_type": "markdown",
   "metadata": {},
   "source": [
    "### Creating a dataframe"
   ]
  },
  {
   "cell_type": "code",
   "execution_count": 30,
   "metadata": {},
   "outputs": [],
   "source": [
    "student_info = []\n",
    "for sid in students_with_adv:\n",
    "    std = students_with_adv[sid]\n",
    "    temp_list = [sid, std[\"name\"], std[\"gender\"], \"Yes\",\n",
    "                std[\"prac_ex_score\"], std[\"group_id\"],\n",
    "                std[\"grp_ex_score\"],\n",
    "                std[\"final_quiz_score\"], std[\"fina_quiz_time(sec)\"]]\n",
    "    student_info.append(temp_list)\n",
    "\n",
    "\n",
    "for sid in students_wo_adv:\n",
    "    std = students_wo_adv[sid]\n",
    "    temp_list = [sid, std[\"name\"], std[\"gender\"], \"No\",\n",
    "                std[\"prac_ex_score\"], std[\"group_id\"],\n",
    "                std[\"grp_ex_score\"],\n",
    "                std[\"final_quiz_score\"], std[\"fina_quiz_time(sec)\"]]\n",
    "    student_info.append(temp_list)"
   ]
  },
  {
   "cell_type": "code",
   "execution_count": 31,
   "metadata": {},
   "outputs": [
    {
     "data": {
      "text/html": [
       "<div>\n",
       "<style scoped>\n",
       "    .dataframe tbody tr th:only-of-type {\n",
       "        vertical-align: middle;\n",
       "    }\n",
       "\n",
       "    .dataframe tbody tr th {\n",
       "        vertical-align: top;\n",
       "    }\n",
       "\n",
       "    .dataframe thead th {\n",
       "        text-align: right;\n",
       "    }\n",
       "</style>\n",
       "<table border=\"1\" class=\"dataframe\">\n",
       "  <thead>\n",
       "    <tr style=\"text-align: right;\">\n",
       "      <th></th>\n",
       "      <th>student_id</th>\n",
       "      <th>student_name</th>\n",
       "      <th>gender</th>\n",
       "      <th>advance_org</th>\n",
       "      <th>prac_ex_score</th>\n",
       "      <th>group_id</th>\n",
       "      <th>grp_ex_score</th>\n",
       "      <th>final_quiz_score</th>\n",
       "      <th>final_quiz_time(sec)</th>\n",
       "    </tr>\n",
       "  </thead>\n",
       "  <tbody>\n",
       "    <tr>\n",
       "      <th>0</th>\n",
       "      <td>7dFrjWJgDe4CvuSY6</td>\n",
       "      <td>eve</td>\n",
       "      <td>F</td>\n",
       "      <td>Yes</td>\n",
       "      <td>7</td>\n",
       "      <td>4</td>\n",
       "      <td>2</td>\n",
       "      <td>3</td>\n",
       "      <td>112</td>\n",
       "    </tr>\n",
       "    <tr>\n",
       "      <th>1</th>\n",
       "      <td>82PbpSzvLk8AJ6Swo</td>\n",
       "      <td>xavier mettraux</td>\n",
       "      <td>M</td>\n",
       "      <td>Yes</td>\n",
       "      <td>8</td>\n",
       "      <td>6</td>\n",
       "      <td>2</td>\n",
       "      <td>3</td>\n",
       "      <td>105</td>\n",
       "    </tr>\n",
       "    <tr>\n",
       "      <th>2</th>\n",
       "      <td>8tWghFsBXWjLDt6F8</td>\n",
       "      <td>gloria</td>\n",
       "      <td>F</td>\n",
       "      <td>Yes</td>\n",
       "      <td>8</td>\n",
       "      <td>2</td>\n",
       "      <td>2</td>\n",
       "      <td>3</td>\n",
       "      <td>90</td>\n",
       "    </tr>\n",
       "    <tr>\n",
       "      <th>3</th>\n",
       "      <td>GYqE83BXBXQdcBZ8D</td>\n",
       "      <td>paul</td>\n",
       "      <td>M</td>\n",
       "      <td>Yes</td>\n",
       "      <td>7</td>\n",
       "      <td>5</td>\n",
       "      <td>1</td>\n",
       "      <td>3</td>\n",
       "      <td>139</td>\n",
       "    </tr>\n",
       "    <tr>\n",
       "      <th>4</th>\n",
       "      <td>KZrnFNem8eHZdmEKy</td>\n",
       "      <td>aïdan</td>\n",
       "      <td>M</td>\n",
       "      <td>Yes</td>\n",
       "      <td>7</td>\n",
       "      <td>1</td>\n",
       "      <td>2</td>\n",
       "      <td>3</td>\n",
       "      <td>100</td>\n",
       "    </tr>\n",
       "    <tr>\n",
       "      <th>5</th>\n",
       "      <td>MXL6EcEtzXxisGjnm</td>\n",
       "      <td>valentine</td>\n",
       "      <td>F</td>\n",
       "      <td>Yes</td>\n",
       "      <td>8</td>\n",
       "      <td>7</td>\n",
       "      <td>1</td>\n",
       "      <td>3</td>\n",
       "      <td>109</td>\n",
       "    </tr>\n",
       "    <tr>\n",
       "      <th>6</th>\n",
       "      <td>Rn3dZwXRGiNNSPz9a</td>\n",
       "      <td>louis revaz</td>\n",
       "      <td>M</td>\n",
       "      <td>Yes</td>\n",
       "      <td>4</td>\n",
       "      <td>1</td>\n",
       "      <td>2</td>\n",
       "      <td>2</td>\n",
       "      <td>134</td>\n",
       "    </tr>\n",
       "    <tr>\n",
       "      <th>7</th>\n",
       "      <td>SjBTogCj7pXPJM3sc</td>\n",
       "      <td>célia crelier</td>\n",
       "      <td>F</td>\n",
       "      <td>Yes</td>\n",
       "      <td>7</td>\n",
       "      <td>5</td>\n",
       "      <td>1</td>\n",
       "      <td>3</td>\n",
       "      <td>165</td>\n",
       "    </tr>\n",
       "    <tr>\n",
       "      <th>8</th>\n",
       "      <td>YW92Gfc5Bm6bvbQvS</td>\n",
       "      <td>romane</td>\n",
       "      <td>F</td>\n",
       "      <td>Yes</td>\n",
       "      <td>7</td>\n",
       "      <td>8</td>\n",
       "      <td>1</td>\n",
       "      <td>3</td>\n",
       "      <td>86</td>\n",
       "    </tr>\n",
       "    <tr>\n",
       "      <th>9</th>\n",
       "      <td>bDe5TRETuJMZfQpQJ</td>\n",
       "      <td>milan</td>\n",
       "      <td>M</td>\n",
       "      <td>Yes</td>\n",
       "      <td>7</td>\n",
       "      <td>7</td>\n",
       "      <td>1</td>\n",
       "      <td>3</td>\n",
       "      <td>137</td>\n",
       "    </tr>\n",
       "    <tr>\n",
       "      <th>10</th>\n",
       "      <td>htgs6TSCZHFx8QWoA</td>\n",
       "      <td>jasmine</td>\n",
       "      <td>F</td>\n",
       "      <td>Yes</td>\n",
       "      <td>5</td>\n",
       "      <td>1</td>\n",
       "      <td>2</td>\n",
       "      <td>3</td>\n",
       "      <td>145</td>\n",
       "    </tr>\n",
       "    <tr>\n",
       "      <th>11</th>\n",
       "      <td>i5yGJuHFLrGb4Aq3c</td>\n",
       "      <td>fred</td>\n",
       "      <td>F</td>\n",
       "      <td>Yes</td>\n",
       "      <td>7</td>\n",
       "      <td>3</td>\n",
       "      <td>1</td>\n",
       "      <td>3</td>\n",
       "      <td>89</td>\n",
       "    </tr>\n",
       "    <tr>\n",
       "      <th>12</th>\n",
       "      <td>iLhyKZX7fCZG7E9WH</td>\n",
       "      <td>johan</td>\n",
       "      <td>M</td>\n",
       "      <td>Yes</td>\n",
       "      <td>7</td>\n",
       "      <td>5</td>\n",
       "      <td>1</td>\n",
       "      <td>3</td>\n",
       "      <td>161</td>\n",
       "    </tr>\n",
       "    <tr>\n",
       "      <th>13</th>\n",
       "      <td>izS4XW9C3Hsk9i6dZ</td>\n",
       "      <td>jade simonet</td>\n",
       "      <td>F</td>\n",
       "      <td>Yes</td>\n",
       "      <td>7</td>\n",
       "      <td>2</td>\n",
       "      <td>2</td>\n",
       "      <td>3</td>\n",
       "      <td>109</td>\n",
       "    </tr>\n",
       "    <tr>\n",
       "      <th>14</th>\n",
       "      <td>k7j4vTAJsjeSQ6iPs</td>\n",
       "      <td>iris</td>\n",
       "      <td>F</td>\n",
       "      <td>Yes</td>\n",
       "      <td>6</td>\n",
       "      <td>7</td>\n",
       "      <td>1</td>\n",
       "      <td>3</td>\n",
       "      <td>93</td>\n",
       "    </tr>\n",
       "    <tr>\n",
       "      <th>15</th>\n",
       "      <td>nDZbh3MADAcsGgdds</td>\n",
       "      <td>athéna</td>\n",
       "      <td>F</td>\n",
       "      <td>Yes</td>\n",
       "      <td>8</td>\n",
       "      <td>6</td>\n",
       "      <td>2</td>\n",
       "      <td>3</td>\n",
       "      <td>73</td>\n",
       "    </tr>\n",
       "    <tr>\n",
       "      <th>16</th>\n",
       "      <td>nWrKTmB4Gca7gBJEk</td>\n",
       "      <td>romain</td>\n",
       "      <td>M</td>\n",
       "      <td>Yes</td>\n",
       "      <td>8</td>\n",
       "      <td>2</td>\n",
       "      <td>2</td>\n",
       "      <td>3</td>\n",
       "      <td>118</td>\n",
       "    </tr>\n",
       "    <tr>\n",
       "      <th>17</th>\n",
       "      <td>rFpcxTur59PF4RPob</td>\n",
       "      <td>jodie</td>\n",
       "      <td>F</td>\n",
       "      <td>Yes</td>\n",
       "      <td>8</td>\n",
       "      <td>6</td>\n",
       "      <td>2</td>\n",
       "      <td>3</td>\n",
       "      <td>125</td>\n",
       "    </tr>\n",
       "    <tr>\n",
       "      <th>18</th>\n",
       "      <td>wPZsn8Hm8GSG84fBQ</td>\n",
       "      <td>emilien</td>\n",
       "      <td>M</td>\n",
       "      <td>Yes</td>\n",
       "      <td>6</td>\n",
       "      <td>4</td>\n",
       "      <td>2</td>\n",
       "      <td>3</td>\n",
       "      <td>104</td>\n",
       "    </tr>\n",
       "    <tr>\n",
       "      <th>19</th>\n",
       "      <td>x8c5AsmKvKeQQuf32</td>\n",
       "      <td>louane</td>\n",
       "      <td>F</td>\n",
       "      <td>Yes</td>\n",
       "      <td>5</td>\n",
       "      <td>8</td>\n",
       "      <td>1</td>\n",
       "      <td>2</td>\n",
       "      <td>102</td>\n",
       "    </tr>\n",
       "    <tr>\n",
       "      <th>20</th>\n",
       "      <td>xhixmCGfw5P2EfpXr</td>\n",
       "      <td>lucien</td>\n",
       "      <td>M</td>\n",
       "      <td>Yes</td>\n",
       "      <td>8</td>\n",
       "      <td>3</td>\n",
       "      <td>1</td>\n",
       "      <td>3</td>\n",
       "      <td>107</td>\n",
       "    </tr>\n",
       "    <tr>\n",
       "      <th>21</th>\n",
       "      <td>yC8RGNZFekfhHXw7P</td>\n",
       "      <td>ambre</td>\n",
       "      <td>F</td>\n",
       "      <td>Yes</td>\n",
       "      <td>8</td>\n",
       "      <td>8</td>\n",
       "      <td>1</td>\n",
       "      <td>3</td>\n",
       "      <td>126</td>\n",
       "    </tr>\n",
       "    <tr>\n",
       "      <th>22</th>\n",
       "      <td>yY6EnA9zsGS76j5h8</td>\n",
       "      <td>téliau</td>\n",
       "      <td>M</td>\n",
       "      <td>Yes</td>\n",
       "      <td>8</td>\n",
       "      <td>2</td>\n",
       "      <td>2</td>\n",
       "      <td>3</td>\n",
       "      <td>133</td>\n",
       "    </tr>\n",
       "    <tr>\n",
       "      <th>23</th>\n",
       "      <td>zk2HouRMvrk4h86Nd</td>\n",
       "      <td>ines</td>\n",
       "      <td>F</td>\n",
       "      <td>Yes</td>\n",
       "      <td>8</td>\n",
       "      <td>4</td>\n",
       "      <td>2</td>\n",
       "      <td>2</td>\n",
       "      <td>106</td>\n",
       "    </tr>\n",
       "    <tr>\n",
       "      <th>24</th>\n",
       "      <td>6s6ywfF3aJCdYpQdL</td>\n",
       "      <td>Sahar</td>\n",
       "      <td>F</td>\n",
       "      <td>No</td>\n",
       "      <td>9</td>\n",
       "      <td>5</td>\n",
       "      <td>2</td>\n",
       "      <td>3</td>\n",
       "      <td>164</td>\n",
       "    </tr>\n",
       "    <tr>\n",
       "      <th>25</th>\n",
       "      <td>BasbmZQMvwwLAgtSM</td>\n",
       "      <td>Louis</td>\n",
       "      <td>M</td>\n",
       "      <td>No</td>\n",
       "      <td>11</td>\n",
       "      <td>1</td>\n",
       "      <td>0</td>\n",
       "      <td>3</td>\n",
       "      <td>102</td>\n",
       "    </tr>\n",
       "    <tr>\n",
       "      <th>26</th>\n",
       "      <td>Bcei9rADYFhbKCp93</td>\n",
       "      <td>Nicolas</td>\n",
       "      <td>M</td>\n",
       "      <td>No</td>\n",
       "      <td>3</td>\n",
       "      <td>2</td>\n",
       "      <td>2</td>\n",
       "      <td>1</td>\n",
       "      <td>208</td>\n",
       "    </tr>\n",
       "    <tr>\n",
       "      <th>27</th>\n",
       "      <td>Dz9wHmEWxcQubmTwW</td>\n",
       "      <td>Lisa</td>\n",
       "      <td>F</td>\n",
       "      <td>No</td>\n",
       "      <td>11</td>\n",
       "      <td>2</td>\n",
       "      <td>2</td>\n",
       "      <td>3</td>\n",
       "      <td>117</td>\n",
       "    </tr>\n",
       "    <tr>\n",
       "      <th>28</th>\n",
       "      <td>KCwKjQb76cPjzx8JX</td>\n",
       "      <td>sonia</td>\n",
       "      <td>F</td>\n",
       "      <td>No</td>\n",
       "      <td>8</td>\n",
       "      <td>1</td>\n",
       "      <td>0</td>\n",
       "      <td>2</td>\n",
       "      <td>140</td>\n",
       "    </tr>\n",
       "    <tr>\n",
       "      <th>29</th>\n",
       "      <td>MJq483N8WXHz9MzBk</td>\n",
       "      <td>Sebastien</td>\n",
       "      <td>M</td>\n",
       "      <td>No</td>\n",
       "      <td>9</td>\n",
       "      <td>4</td>\n",
       "      <td>2</td>\n",
       "      <td>3</td>\n",
       "      <td>110</td>\n",
       "    </tr>\n",
       "    <tr>\n",
       "      <th>30</th>\n",
       "      <td>PireZZS4EC2YtDzr7</td>\n",
       "      <td>Emma</td>\n",
       "      <td>F</td>\n",
       "      <td>No</td>\n",
       "      <td>8</td>\n",
       "      <td>2</td>\n",
       "      <td>2</td>\n",
       "      <td>3</td>\n",
       "      <td>119</td>\n",
       "    </tr>\n",
       "    <tr>\n",
       "      <th>31</th>\n",
       "      <td>WefycwLQ4YnmyXxbe</td>\n",
       "      <td>Marie</td>\n",
       "      <td>F</td>\n",
       "      <td>No</td>\n",
       "      <td>9</td>\n",
       "      <td>3</td>\n",
       "      <td>1</td>\n",
       "      <td>3</td>\n",
       "      <td>128</td>\n",
       "    </tr>\n",
       "    <tr>\n",
       "      <th>32</th>\n",
       "      <td>a2Ckwzfe9yionRt8j</td>\n",
       "      <td>Alicia</td>\n",
       "      <td>F</td>\n",
       "      <td>No</td>\n",
       "      <td>11</td>\n",
       "      <td>5</td>\n",
       "      <td>2</td>\n",
       "      <td>3</td>\n",
       "      <td>119</td>\n",
       "    </tr>\n",
       "    <tr>\n",
       "      <th>33</th>\n",
       "      <td>iFpwFjqWgCo8c2tRA</td>\n",
       "      <td>Antoine</td>\n",
       "      <td>M</td>\n",
       "      <td>No</td>\n",
       "      <td>10</td>\n",
       "      <td>1</td>\n",
       "      <td>0</td>\n",
       "      <td>3</td>\n",
       "      <td>114</td>\n",
       "    </tr>\n",
       "    <tr>\n",
       "      <th>34</th>\n",
       "      <td>mL9jSJPubEFdL2hsZ</td>\n",
       "      <td>Lea</td>\n",
       "      <td>F</td>\n",
       "      <td>No</td>\n",
       "      <td>11</td>\n",
       "      <td>4</td>\n",
       "      <td>2</td>\n",
       "      <td>2</td>\n",
       "      <td>140</td>\n",
       "    </tr>\n",
       "    <tr>\n",
       "      <th>35</th>\n",
       "      <td>oXAFHcyBLZPrTwCX5</td>\n",
       "      <td>paula</td>\n",
       "      <td>F</td>\n",
       "      <td>No</td>\n",
       "      <td>11</td>\n",
       "      <td>5</td>\n",
       "      <td>2</td>\n",
       "      <td>3</td>\n",
       "      <td>120</td>\n",
       "    </tr>\n",
       "    <tr>\n",
       "      <th>36</th>\n",
       "      <td>qaQte2MipgdEF5ZTb</td>\n",
       "      <td>helio</td>\n",
       "      <td>M</td>\n",
       "      <td>No</td>\n",
       "      <td>4</td>\n",
       "      <td>4</td>\n",
       "      <td>2</td>\n",
       "      <td>3</td>\n",
       "      <td>201</td>\n",
       "    </tr>\n",
       "    <tr>\n",
       "      <th>37</th>\n",
       "      <td>rgCgM5NdbNyergz9D</td>\n",
       "      <td>malik</td>\n",
       "      <td>M</td>\n",
       "      <td>No</td>\n",
       "      <td>6</td>\n",
       "      <td>1</td>\n",
       "      <td>0</td>\n",
       "      <td>2</td>\n",
       "      <td>152</td>\n",
       "    </tr>\n",
       "    <tr>\n",
       "      <th>38</th>\n",
       "      <td>wBypYSiPx2wm2qK4S</td>\n",
       "      <td>Capucine</td>\n",
       "      <td>F</td>\n",
       "      <td>No</td>\n",
       "      <td>8</td>\n",
       "      <td>3</td>\n",
       "      <td>1</td>\n",
       "      <td>3</td>\n",
       "      <td>121</td>\n",
       "    </tr>\n",
       "    <tr>\n",
       "      <th>39</th>\n",
       "      <td>xRSfbze8oF7h9QvFa</td>\n",
       "      <td>Henoch</td>\n",
       "      <td>M</td>\n",
       "      <td>No</td>\n",
       "      <td>2</td>\n",
       "      <td>3</td>\n",
       "      <td>1</td>\n",
       "      <td>2</td>\n",
       "      <td>208</td>\n",
       "    </tr>\n",
       "  </tbody>\n",
       "</table>\n",
       "</div>"
      ],
      "text/plain": [
       "           student_id     student_name gender advance_org  prac_ex_score  \\\n",
       "0   7dFrjWJgDe4CvuSY6              eve      F         Yes              7   \n",
       "1   82PbpSzvLk8AJ6Swo  xavier mettraux      M         Yes              8   \n",
       "2   8tWghFsBXWjLDt6F8           gloria      F         Yes              8   \n",
       "3   GYqE83BXBXQdcBZ8D             paul      M         Yes              7   \n",
       "4   KZrnFNem8eHZdmEKy            aïdan      M         Yes              7   \n",
       "5   MXL6EcEtzXxisGjnm        valentine      F         Yes              8   \n",
       "6   Rn3dZwXRGiNNSPz9a      louis revaz      M         Yes              4   \n",
       "7   SjBTogCj7pXPJM3sc    célia crelier      F         Yes              7   \n",
       "8   YW92Gfc5Bm6bvbQvS           romane      F         Yes              7   \n",
       "9   bDe5TRETuJMZfQpQJ            milan      M         Yes              7   \n",
       "10  htgs6TSCZHFx8QWoA          jasmine      F         Yes              5   \n",
       "11  i5yGJuHFLrGb4Aq3c             fred      F         Yes              7   \n",
       "12  iLhyKZX7fCZG7E9WH            johan      M         Yes              7   \n",
       "13  izS4XW9C3Hsk9i6dZ     jade simonet      F         Yes              7   \n",
       "14  k7j4vTAJsjeSQ6iPs             iris      F         Yes              6   \n",
       "15  nDZbh3MADAcsGgdds           athéna      F         Yes              8   \n",
       "16  nWrKTmB4Gca7gBJEk           romain      M         Yes              8   \n",
       "17  rFpcxTur59PF4RPob            jodie      F         Yes              8   \n",
       "18  wPZsn8Hm8GSG84fBQ          emilien      M         Yes              6   \n",
       "19  x8c5AsmKvKeQQuf32           louane      F         Yes              5   \n",
       "20  xhixmCGfw5P2EfpXr           lucien      M         Yes              8   \n",
       "21  yC8RGNZFekfhHXw7P            ambre      F         Yes              8   \n",
       "22  yY6EnA9zsGS76j5h8           téliau      M         Yes              8   \n",
       "23  zk2HouRMvrk4h86Nd             ines      F         Yes              8   \n",
       "24  6s6ywfF3aJCdYpQdL            Sahar      F          No              9   \n",
       "25  BasbmZQMvwwLAgtSM            Louis      M          No             11   \n",
       "26  Bcei9rADYFhbKCp93          Nicolas      M          No              3   \n",
       "27  Dz9wHmEWxcQubmTwW             Lisa      F          No             11   \n",
       "28  KCwKjQb76cPjzx8JX            sonia      F          No              8   \n",
       "29  MJq483N8WXHz9MzBk        Sebastien      M          No              9   \n",
       "30  PireZZS4EC2YtDzr7             Emma      F          No              8   \n",
       "31  WefycwLQ4YnmyXxbe            Marie      F          No              9   \n",
       "32  a2Ckwzfe9yionRt8j           Alicia      F          No             11   \n",
       "33  iFpwFjqWgCo8c2tRA          Antoine      M          No             10   \n",
       "34  mL9jSJPubEFdL2hsZ              Lea      F          No             11   \n",
       "35  oXAFHcyBLZPrTwCX5            paula      F          No             11   \n",
       "36  qaQte2MipgdEF5ZTb            helio      M          No              4   \n",
       "37  rgCgM5NdbNyergz9D            malik      M          No              6   \n",
       "38  wBypYSiPx2wm2qK4S         Capucine      F          No              8   \n",
       "39  xRSfbze8oF7h9QvFa           Henoch      M          No              2   \n",
       "\n",
       "   group_id  grp_ex_score  final_quiz_score  final_quiz_time(sec)  \n",
       "0         4             2                 3                   112  \n",
       "1         6             2                 3                   105  \n",
       "2         2             2                 3                    90  \n",
       "3         5             1                 3                   139  \n",
       "4         1             2                 3                   100  \n",
       "5         7             1                 3                   109  \n",
       "6         1             2                 2                   134  \n",
       "7         5             1                 3                   165  \n",
       "8         8             1                 3                    86  \n",
       "9         7             1                 3                   137  \n",
       "10        1             2                 3                   145  \n",
       "11        3             1                 3                    89  \n",
       "12        5             1                 3                   161  \n",
       "13        2             2                 3                   109  \n",
       "14        7             1                 3                    93  \n",
       "15        6             2                 3                    73  \n",
       "16        2             2                 3                   118  \n",
       "17        6             2                 3                   125  \n",
       "18        4             2                 3                   104  \n",
       "19        8             1                 2                   102  \n",
       "20        3             1                 3                   107  \n",
       "21        8             1                 3                   126  \n",
       "22        2             2                 3                   133  \n",
       "23        4             2                 2                   106  \n",
       "24        5             2                 3                   164  \n",
       "25        1             0                 3                   102  \n",
       "26        2             2                 1                   208  \n",
       "27        2             2                 3                   117  \n",
       "28        1             0                 2                   140  \n",
       "29        4             2                 3                   110  \n",
       "30        2             2                 3                   119  \n",
       "31        3             1                 3                   128  \n",
       "32        5             2                 3                   119  \n",
       "33        1             0                 3                   114  \n",
       "34        4             2                 2                   140  \n",
       "35        5             2                 3                   120  \n",
       "36        4             2                 3                   201  \n",
       "37        1             0                 2                   152  \n",
       "38        3             1                 3                   121  \n",
       "39        3             1                 2                   208  "
      ]
     },
     "execution_count": 31,
     "metadata": {},
     "output_type": "execute_result"
    }
   ],
   "source": [
    "col_names = [\"student_id\", \"student_name\", \"gender\", \"advance_org\", \"prac_ex_score\", \"group_id\", \"grp_ex_score\", \"final_quiz_score\", \"final_quiz_time(sec)\"]\n",
    "students_df = pd.DataFrame(student_info, columns =col_names)\n",
    "students_df"
   ]
  },
  {
   "cell_type": "code",
   "execution_count": 32,
   "metadata": {},
   "outputs": [],
   "source": [
    "students_df.to_csv(\"./student_score.csv\")"
   ]
  },
  {
   "cell_type": "code",
   "execution_count": 52,
   "metadata": {},
   "outputs": [
    {
     "data": {
      "image/png": "[encoded data removed]",
      "text/plain": [
       "<Figure size 842.4x595.44 with 1 Axes>"
      ]
     },
     "metadata": {},
     "output_type": "display_data"
    }
   ],
   "source": [
    "import seaborn as sns\n",
    "sns.set(rc={'figure.figsize':(11.7,8.27)})\n",
    "ax = sns.boxplot(x=\"advance_org\", y=\"final_quiz_score\", data=students_df, palette=\"Set2\")"
   ]
  },
  {
   "cell_type": "code",
   "execution_count": 53,
   "metadata": {},
   "outputs": [
    {
     "data": {
      "image/png": "[encoded data removed]",
      "text/plain": [
       "<Figure size 842.4x595.44 with 1 Axes>"
      ]
     },
     "metadata": {},
     "output_type": "display_data"
    }
   ],
   "source": [
    "ax = sns.boxplot(x=\"advance_org\", y=\"final_quiz_time(sec)\", data=students_df, palette=\"Set2\")"
   ]
  },
  {
   "cell_type": "code",
   "execution_count": 55,
   "metadata": {},
   "outputs": [
    {
     "data": {
      "image/png": "[encoded data removed]",
      "text/plain": [
       "<Figure size 842.4x595.44 with 1 Axes>"
      ]
     },
     "metadata": {},
     "output_type": "display_data"
    }
   ],
   "source": [
    "ax = sns.boxplot(x=\"gender\", y=\"final_quiz_score\", data=students_df, palette=\"Set2\")"
   ]
  },
  {
   "cell_type": "code",
   "execution_count": 54,
   "metadata": {},
   "outputs": [
    {
     "data": {
      "image/png": "[encoded data removed]",
      "text/plain": [
       "<Figure size 842.4x595.44 with 1 Axes>"
      ]
     },
     "metadata": {},
     "output_type": "display_data"
    }
   ],
   "source": [
    "ax = sns.boxplot(x=\"gender\", y=\"final_quiz_time(sec)\", data=students_df, palette=\"Set2\")"
   ]
  },
  {
   "cell_type": "code",
   "execution_count": null,
   "metadata": {},
   "outputs": [],
   "source": []
  }
 ],
 "metadata": {
  "kernelspec": {
   "display_name": "Python [conda env:.conda-ada] *",
   "language": "python",
   "name": "conda-env-.conda-ada-py"
  },
  "language_info": {
   "codemirror_mode": {
    "name": "ipython",
    "version": 3
   },
   "file_extension": ".py",
   "mimetype": "text/x-python",
   "name": "python",
   "nbconvert_exporter": "python",
   "pygments_lexer": "ipython3",
   "version": "3.8.5"
  }
 },
 "nbformat": 4,
 "nbformat_minor": 4
}
